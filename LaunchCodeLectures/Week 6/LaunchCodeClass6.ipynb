{
  "nbformat": 4,
  "nbformat_minor": 0,
  "metadata": {
    "colab": {
      "provenance": []
    },
    "kernelspec": {
      "name": "python3",
      "display_name": "Python 3"
    },
    "language_info": {
      "name": "python"
    }
  },
  "cells": [
    {
      "cell_type": "markdown",
      "source": [
        "#Week 5 Homework Review Questions"
      ],
      "metadata": {
        "id": "o8do7Sl-EkAO"
      }
    },
    {
      "cell_type": "code",
      "execution_count": null,
      "metadata": {
        "id": "UpTS2EUJEe1F"
      },
      "outputs": [],
      "source": [
        "\"\"\"\n",
        "Question 2:\n",
        "Create a function called shout_twice(message) that prints the message two times in a row (no space in between).\n",
        "Example:\n",
        "shout_twice(\"Hey!\") should print Hey!Hey!\n",
        "Hint:\n",
        "Use print(message * 2)\n",
        "\n",
        "\"\"\"\n",
        "def shout_twice(message):\n",
        "  print(message * 2)\n",
        "\n",
        "shout_twice(\"Hey!\")\n",
        "\n",
        "\n",
        "\"\"\"\n",
        "Question 3:\n",
        "Create a function called repeat_word(word, multiple) that prints the word multiple times based on the number provided.\n",
        "Example:\n",
        "repeat_word(\"Python\", 3) should print PythonPythonPython\n",
        "Hint:\n",
        "Use the * operator to repeat strings.\n",
        "\"\"\"\n",
        "\n",
        "def repeat_word(word, multiple):\n",
        "  print(word * multiple)\n",
        "\n",
        "repeat_word(\"Python\",3)\n",
        "\n",
        "\n",
        "\"\"\"\n",
        "5. Global vs Local Variables\n",
        "Question:\n",
        "Look at the following code:\n",
        "\n",
        "def multiply(a, b):\n",
        "    result = a * b\n",
        "    print(result)\n",
        "\n",
        "multiply(2, 5)\n",
        "print(result)\n",
        "What error will this code produce, and why?\n",
        "Hint:\n",
        "Where is result created?\n",
        "\"\"\"\n",
        "\n",
        "def multiply(a, b):\n",
        "    result = a * b\n",
        "    print(result)\n",
        "\n",
        "multiply(2, 5)\n",
        "\n",
        "print(result)\n",
        "\n",
        "\"\"\"\n",
        "6. Using range()\n",
        "Question:\n",
        "What numbers will this code print?\n",
        "\n",
        "for i in range(3):\n",
        "    print(i)\n",
        "Hint:\n",
        "Start counting from 0.\n",
        "\"\"\"\n",
        "\n",
        "for i in range(3):\n",
        "    print(i)\n",
        "\n",
        "\n",
        "# For each item in range(3):\n",
        "    #print(each item)\n",
        "\n",
        "#Knowledge Check - Functions\n",
        "#Create a function called repeat_word(word,times) that prints the word multiple times based on the number provided.\n",
        "\n",
        "def repeat_word(word,times):\n",
        "  final_result = word * times\n",
        "  print(final_result)\n",
        "\n",
        "repeat_word(\"Google Colab \", 5)"
      ]
    },
    {
      "cell_type": "markdown",
      "source": [
        "#Functions - Return Values"
      ],
      "metadata": {
        "id": "PTa_YDH6Lxcq"
      }
    },
    {
      "cell_type": "code",
      "source": [
        "#Example 1 - Without a variable\n",
        "\n",
        "def add_numbers(a, b):\n",
        "    return a + b\n",
        "\n",
        "result = add_numbers(3, 5)\n",
        "print(result)  # Output: 8\n",
        "\n",
        "#Example 2 - With a variable\n",
        "\n",
        "def add_numbers(a, b):\n",
        "    result = a + b\n",
        "    return result\n",
        "\n",
        "total = add_numbers(3, 5)\n",
        "print(total)"
      ],
      "metadata": {
        "colab": {
          "base_uri": "https://localhost:8080/"
        },
        "id": "vuBNyXcvLz1M",
        "outputId": "ce55b8a6-0b32-4643-88cf-d75dcc06cea9"
      },
      "execution_count": null,
      "outputs": [
        {
          "output_type": "stream",
          "name": "stdout",
          "text": [
            "8\n",
            "8 -2\n"
          ]
        }
      ]
    },
    {
      "cell_type": "markdown",
      "source": [
        "#Repetition - The For Loop"
      ],
      "metadata": {
        "id": "ZkVK-7FeIG8h"
      }
    },
    {
      "cell_type": "code",
      "source": [
        "#Recall that For Loops only work with with strings, lists, tuples, or range()\n",
        "#Example 1 - With Strings\n",
        "\n",
        "for i in \"hello\":\n",
        "  print(i)\n",
        "\n",
        "#How do we read this? We read this by saying, for each ITEM in the string \"HELLO\", print the ITEM\n",
        "\n",
        "\n",
        "#Example 2 - With Integer (WILL NOT WORK)\n",
        "for i in 30:\n",
        "  print(i)\n",
        "\n",
        "\n",
        "#Example 3 - With Lists (WE WILL COME BACK TO THIS LATER)"
      ],
      "metadata": {
        "id": "90Yq30C4IJOc"
      },
      "execution_count": null,
      "outputs": []
    },
    {
      "cell_type": "markdown",
      "source": [
        "#For Loop - Using the range() Function"
      ],
      "metadata": {
        "id": "Goh65B1NHvYC"
      }
    },
    {
      "cell_type": "code",
      "source": [
        "#Example 1 - Range\n",
        "\n",
        "#How do we say this? For each item in range 2 (which includes only 0 and 1), print the item.\n",
        "\n",
        "for i in range(2):\n",
        "    print(i)\n",
        "\n",
        "#Remember, range(2) = 0,1\n",
        "#This means that range(2) creates a group of numbers that go 0 to 2 -> BUT NOT INCLUDING 2! This means range(2) is equal to a range of numbers that include 0 and 1.\n",
        "\n",
        "\n",
        "#Example 2 - range(start,stop,step)\n",
        "\n",
        "#Notice how the number 10 will not be printed!\n",
        "\n",
        "\n",
        "for i in range(0, 10):\n",
        "    print(i)\n",
        "\n",
        "\n",
        "\n",
        "#Example 3 - range(start,stop,step)\n",
        "\n",
        "for i in range(0, 10, 1):\n",
        "    print(i)\n"
      ],
      "metadata": {
        "colab": {
          "base_uri": "https://localhost:8080/"
        },
        "id": "xYcQUZpWHzN1",
        "outputId": "edf382de-dc5f-4056-f271-e554704bce5b"
      },
      "execution_count": null,
      "outputs": [
        {
          "output_type": "stream",
          "name": "stdout",
          "text": [
            "range(0, 3)\n"
          ]
        }
      ]
    },
    {
      "cell_type": "markdown",
      "source": [
        "#Lists"
      ],
      "metadata": {
        "id": "DYZ48b2uM6ac"
      }
    }
  ]
}