{
  "nbformat": 4,
  "nbformat_minor": 0,
  "metadata": {
    "colab": {
      "provenance": [],
      "toc_visible": true,
      "authorship_tag": "ABX9TyMQSd6VgC/EuU0Sn+0noIBU",
      "include_colab_link": true
    },
    "kernelspec": {
      "name": "python3",
      "display_name": "Python 3"
    },
    "language_info": {
      "name": "python"
    }
  },
  "cells": [
    {
      "cell_type": "markdown",
      "metadata": {
        "id": "view-in-github",
        "colab_type": "text"
      },
      "source": [
        "<a href=\"https://colab.research.google.com/github/Asfandyar-Khan/6940_AsfandyarKhan/blob/master/LaunchCode_Class_2.ipynb\" target=\"_parent\"><img src=\"https://colab.research.google.com/assets/colab-badge.svg\" alt=\"Open In Colab\"/></a>"
      ]
    },
    {
      "cell_type": "markdown",
      "source": [
        "#**Python Programming Lesson 2**"
      ],
      "metadata": {
        "id": "8hdNg0-UsYaT"
      }
    },
    {
      "cell_type": "markdown",
      "source": [
        "## Finishing Week 1 Concepts"
      ],
      "metadata": {
        "id": "s5hweEKGtepP"
      }
    },
    {
      "cell_type": "markdown",
      "source": [
        "# Review"
      ],
      "metadata": {
        "id": "WCv11sVhEnnE"
      }
    },
    {
      "cell_type": "code",
      "source": [
        "print(\"my name is Bob and I am 10 years old\")\n",
        "print(5+5)\n",
        "print(13/2)\n",
        "print(13//2)"
      ],
      "metadata": {
        "colab": {
          "base_uri": "https://localhost:8080/"
        },
        "id": "7aSi6veuEqbU",
        "outputId": "145cf835-50e8-4dd6-fd1e-6494312ac2a1"
      },
      "execution_count": null,
      "outputs": [
        {
          "output_type": "stream",
          "name": "stdout",
          "text": [
            "my name is Bob and I am 10 years old\n",
            "10\n",
            "6.5\n",
            "6\n"
          ]
        }
      ]
    },
    {
      "cell_type": "markdown",
      "source": [
        "**1.3. Arithmetic functions**"
      ],
      "metadata": {
        "id": "9q0PxyUfskOJ"
      }
    },
    {
      "cell_type": "code",
      "source": [
        "#Modulus operation\n",
        "5%2\n",
        "\n",
        "#Exponentiation\n",
        "5**2\n",
        "\n",
        "#Using the round function\n",
        "round(42.1)\n",
        "round(42.5)\n",
        "\n",
        "#Absolute value function - abs()\n",
        "\n",
        "abs(42)"
      ],
      "metadata": {
        "colab": {
          "base_uri": "https://localhost:8080/"
        },
        "id": "aXamT3RJstpV",
        "outputId": "fbae6895-4cf3-4655-9866-c361916b81e4"
      },
      "execution_count": null,
      "outputs": [
        {
          "output_type": "execute_result",
          "data": {
            "text/plain": [
              "42"
            ]
          },
          "metadata": {},
          "execution_count": 27
        }
      ]
    },
    {
      "cell_type": "markdown",
      "source": [
        "**1.5. Values and types**"
      ],
      "metadata": {
        "id": "TT99wPUGsv8B"
      }
    },
    {
      "cell_type": "code",
      "source": [
        "#Examples of type function\n",
        "#Numbers\n",
        "type(42.5)\n",
        "type(42.0)\n",
        "type(42)\n",
        "\n",
        "#Words\n",
        "type(\"Hello world!\")\n",
        "\n",
        "#Examples converting variables using the float and int functions\n",
        "float(42)\n",
        "int(42.7)\n",
        "\n",
        "#Examples converting string numbers to integer values\n",
        "\n",
        "int('12')\n",
        "int('12')/3\n",
        "\n",
        "float('12')\n",
        "float('12')/3\n",
        "\n",
        "#Examples converting numbers to string\n",
        "\n",
        "str(4)\n",
        "str(4.0)\n",
        "\n",
        "5+5\n"
      ],
      "metadata": {
        "colab": {
          "base_uri": "https://localhost:8080/"
        },
        "id": "MoQYBIkgsz9P",
        "outputId": "0d8ea981-6433-4938-d38d-d405decb68f1"
      },
      "execution_count": null,
      "outputs": [
        {
          "output_type": "execute_result",
          "data": {
            "text/plain": [
              "10"
            ]
          },
          "metadata": {},
          "execution_count": 80
        }
      ]
    },
    {
      "cell_type": "markdown",
      "source": [
        "## Week 2 Concepts - Variables and Statements"
      ],
      "metadata": {
        "id": "PefQZeFYtotd"
      }
    },
    {
      "cell_type": "markdown",
      "source": [
        "**2.1. Variables**"
      ],
      "metadata": {
        "id": "HdhRQM2ht7VI"
      }
    },
    {
      "cell_type": "code",
      "source": [
        "#Basic variable assignment\n",
        "#Variabels must not begin with a number or a capital letter!\n",
        "\n",
        "#In the example below, the variable is n and the value is 17\n",
        "\n",
        "n = 17\n",
        "\n",
        "print(n)\n",
        "\n"
      ],
      "metadata": {
        "colab": {
          "base_uri": "https://localhost:8080/"
        },
        "id": "EINuIxZwt_3s",
        "outputId": "1866133f-3d2e-4a07-c4e2-76010d8298fd"
      },
      "execution_count": null,
      "outputs": [
        {
          "output_type": "stream",
          "name": "stdout",
          "text": [
            "17\n"
          ]
        }
      ]
    },
    {
      "cell_type": "markdown",
      "source": [
        "**2.2. State diagrams**\n"
      ],
      "metadata": {
        "id": "LpEIdPSEuAKD"
      }
    },
    {
      "cell_type": "markdown",
      "source": [
        "**2.3. Variable names**"
      ],
      "metadata": {
        "id": "4bBTvamquKC3"
      }
    },
    {
      "cell_type": "code",
      "source": [
        "a = 5\n",
        "b = 10\n",
        "c = a+b\n",
        "\n",
        "print(c)"
      ],
      "metadata": {
        "colab": {
          "base_uri": "https://localhost:8080/"
        },
        "id": "8QCkxl7nuMGV",
        "outputId": "6f968b90-23ae-488a-88ce-f6ea8646529e"
      },
      "execution_count": null,
      "outputs": [
        {
          "output_type": "stream",
          "name": "stdout",
          "text": [
            "c\n"
          ]
        }
      ]
    },
    {
      "cell_type": "markdown",
      "source": [
        "**2.5. Expressions and statements**"
      ],
      "metadata": {
        "id": "bOBoGO3duMRr"
      }
    },
    {
      "cell_type": "code",
      "source": [],
      "metadata": {
        "id": "p-7lRG7UuYF0"
      },
      "execution_count": null,
      "outputs": []
    },
    {
      "cell_type": "markdown",
      "source": [
        "**2.6. The Print function**"
      ],
      "metadata": {
        "id": "AVMdN7Pq87fj"
      }
    },
    {
      "cell_type": "code",
      "source": [],
      "metadata": {
        "id": "f6H1F9qs8-fs"
      },
      "execution_count": null,
      "outputs": []
    },
    {
      "cell_type": "markdown",
      "source": [
        "**2.7. Arguments**"
      ],
      "metadata": {
        "id": "ph_saTDT8--E"
      }
    },
    {
      "cell_type": "code",
      "source": [],
      "metadata": {
        "id": "INaKZSuG9E2Q"
      },
      "execution_count": null,
      "outputs": []
    },
    {
      "cell_type": "markdown",
      "source": [
        "**Input Exercise**"
      ],
      "metadata": {
        "id": "WkTTTSL0uYu1"
      }
    },
    {
      "cell_type": "code",
      "source": [
        "name = input('Enter your name =')\n",
        "age = input('Enter your age = ')\n",
        "print('Your name is ', name , ',and your age is = ',age)"
      ],
      "metadata": {
        "colab": {
          "base_uri": "https://localhost:8080/"
        },
        "id": "FOQJHummxXo6",
        "outputId": "3ab7d985-ff49-4311-9c81-3697eb372966"
      },
      "execution_count": null,
      "outputs": [
        {
          "output_type": "stream",
          "name": "stdout",
          "text": [
            "Enter your name =Bob\n",
            "Enter your age = 20\n",
            "Your name is  Bob ,and your age is =  20\n"
          ]
        }
      ]
    },
    {
      "cell_type": "markdown",
      "source": [
        "# New Section"
      ],
      "metadata": {
        "id": "My2ORJhci9h9"
      }
    },
    {
      "cell_type": "markdown",
      "source": [
        "# Functions"
      ],
      "metadata": {
        "id": "eKL7eN--GN_P"
      }
    },
    {
      "cell_type": "code",
      "source": [],
      "metadata": {
        "id": "3GM71LVGGiBc"
      },
      "execution_count": null,
      "outputs": []
    }
  ]
}