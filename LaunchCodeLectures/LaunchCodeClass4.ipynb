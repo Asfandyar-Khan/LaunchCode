{
  "nbformat": 4,
  "nbformat_minor": 0,
  "metadata": {
    "colab": {
      "provenance": []
    },
    "kernelspec": {
      "name": "python3",
      "display_name": "Python 3"
    },
    "language_info": {
      "name": "python"
    }
  },
  "cells": [
    {
      "cell_type": "markdown",
      "source": [
        "#Review"
      ],
      "metadata": {
        "id": "u1oA46TBKTtc"
      }
    },
    {
      "cell_type": "code",
      "source": [
        "dogs = 10\n",
        "cats = 7\n",
        "birds = 6\n",
        "\n",
        "total = dogs+cats+birds\n",
        "\n",
        "#Using comma method\n",
        "print(\"You have\",dogs,\"dogs,\", cats, \"cats,\" \" and\", birds,\"birds!\" \" That's\", total, \"items in total!\")\n",
        "\n",
        "#Using .format method\n",
        "print(\"You have {} dogs, {} cats, and {} birds. That's {} items in total!\".format(dogs,cats,birds,total))\n",
        "\n",
        "#Using f string method\n",
        "print(f\"You have {dogs} dogs, {cats} cats, and {birds} birds. That's {total} items in total!\")\n",
        "\n",
        "\n"
      ],
      "metadata": {
        "colab": {
          "base_uri": "https://localhost:8080/"
        },
        "id": "dig5vtp_KVDE",
        "outputId": "01ea34bf-2552-48fc-f571-999d44c41c5e"
      },
      "execution_count": null,
      "outputs": [
        {
          "output_type": "stream",
          "name": "stdout",
          "text": [
            "You have 10 dogs, 7 cats, and 6 birds! That's 23 items in total!\n",
            "You have 10 dogs, 7 cats, and 6 birds. That's 23 items in total!\n",
            "You have 10 dogs, 7 cats, and 6 birds. That's 23 items in total!\n"
          ]
        }
      ]
    },
    {
      "cell_type": "markdown",
      "source": [
        "#Input Function - Examples"
      ],
      "metadata": {
        "id": "X01ivTUeBZvS"
      }
    },
    {
      "cell_type": "code",
      "source": [
        "#Question 1:\n",
        "#Use the input function to store two variables – name and date of birth. Then, print out the user’s name and age on one\n",
        "#line using the print function.\n",
        "\n",
        "\n",
        "name = input(\"Enter your name: \")\n",
        "age = input(\"Enter your age: \")\n",
        "\n",
        "print(\"Your name is {} and your age is {}\".format(name,age))\n",
        "\n",
        "\n",
        "\n"
      ],
      "metadata": {
        "colab": {
          "base_uri": "https://localhost:8080/"
        },
        "id": "dk7nG7OWBlMH",
        "outputId": "91b2e47c-3d91-4895-998d-51c24e7139bb"
      },
      "execution_count": null,
      "outputs": [
        {
          "output_type": "stream",
          "name": "stdout",
          "text": [
            "Enter your name: Bob\n",
            "Enter your age: 15\n",
            "Your name is Bob and your age is 15\n"
          ]
        }
      ]
    },
    {
      "cell_type": "code",
      "source": [
        "#Question 1 - Advanced:\n",
        "#Use the input function to store two variables – name, age in years. Then create a new variable with age in days.\n",
        "#Then, print out the user’s name and ages on one line using the print function.\n",
        "\n",
        "#Hint: Because python stores all values from the int() function as string, we want to convert those values to integer before doing any calculations.\n",
        "\n",
        "\n",
        "name = input(\"Enter your name: \")\n",
        "age = int(input(\"Enter your age in years: \"))\n",
        "age_days = age * 365\n",
        "\n",
        "print(\"Your name is {} and your age is {} and your age in days is {}\".format(name,age, age_days))\n",
        "\n",
        "\n",
        "\n",
        "\n",
        "\n",
        "\n",
        "\n",
        "\n"
      ],
      "metadata": {
        "colab": {
          "base_uri": "https://localhost:8080/"
        },
        "id": "g-hTdjQOQPVX",
        "outputId": "e8ca1fb8-ff5e-463a-ca02-95f82d9bd74b"
      },
      "execution_count": null,
      "outputs": [
        {
          "output_type": "stream",
          "name": "stdout",
          "text": [
            "Enter your name: Bob\n",
            "Enter your age in years: 12\n",
            "Your name is Bob and your age is 12 and your age in days is 4380\n"
          ]
        }
      ]
    },
    {
      "cell_type": "code",
      "source": [
        "#Question 2:\n",
        "#Use the input function to store three variables – name, pet, and pet_name. Then, print out the user’s name,\n",
        "#type of pet (like dog or cat), and the name of their pet. Use the print function and ensure that the final output is only on one line of code.\n",
        "\n",
        "name = input(\"What is your name?: \")\n",
        "pet = input(\"What type of pet do you have?: \")\n",
        "pet_name = input(\"What is your pet's name?: \")\n",
        "\n",
        "#print(\"Your name is {} and you have a pet {} whose name is {}!\".format(name,pet,pet_name))\n",
        "\n",
        "type(name)\n",
        "\n",
        "\n",
        "\n"
      ],
      "metadata": {
        "colab": {
          "base_uri": "https://localhost:8080/"
        },
        "id": "P338oysyBpt5",
        "outputId": "d64b47cf-f9cc-48a6-b6f6-2419f32562ce"
      },
      "execution_count": null,
      "outputs": [
        {
          "name": "stdout",
          "output_type": "stream",
          "text": [
            "What is your name?: Bob\n",
            "What type of pet do you have?: Dog\n",
            "What is your pet's name?: Scamper\n"
          ]
        },
        {
          "output_type": "execute_result",
          "data": {
            "text/plain": [
              "str"
            ]
          },
          "metadata": {},
          "execution_count": 18
        }
      ]
    },
    {
      "cell_type": "code",
      "source": [
        "#Question 3:\n",
        "\n",
        "#Use the input function to store three variables. First, ask the user for their name. Then, ask the user how many apples they have.\n",
        "#Then ask how many bananas they have. Then create a variable called total_fruit which adds the user’s total apples and bananas. Finally, use the print function to write the following message:\n",
        "#“Bob has 5 apples and 10 bananas and a total of 15 pieces of fruit!”.\n",
        "\n",
        "\n",
        "\n",
        "\n",
        "\n",
        "#Hint: When you ask user’s for input of numbers, it is stored as a string. You must convert this input to an int using the int() function.\n",
        "#How do we do this? When you create your total_fruit variable, make sure you use int(apples) and int(bananas) to add the two together.\n"
      ],
      "metadata": {
        "id": "zmtw-znMBwbg"
      },
      "execution_count": null,
      "outputs": []
    },
    {
      "cell_type": "markdown",
      "source": [
        "#Chapter 3 - Functions"
      ],
      "metadata": {
        "id": "P4TqW6iqB93T"
      }
    },
    {
      "cell_type": "code",
      "source": [],
      "metadata": {
        "id": "fkBlDFJ6B_zR"
      },
      "execution_count": null,
      "outputs": []
    },
    {
      "cell_type": "code",
      "source": [
        "#Example 1\n",
        "\n",
        "#Creating the function\n",
        "def favourite_sentences()\n",
        "  print(\"My name is Bob\")\n",
        "  print(\"My age is 10\")\n",
        "\n",
        "#Calling the function\n",
        "favourite_sentences()\n",
        "\n",
        "\n",
        "#Example 2\n",
        "\n",
        "#Creating the function\n",
        "def print_twice(string):\n",
        "\n",
        "    print(string*2)\n",
        "\n",
        "\n",
        "#Calling the function\n",
        "print_twice(\"hello\")\n",
        "\n",
        "\n",
        "\n",
        "\n",
        "\n"
      ],
      "metadata": {
        "colab": {
          "base_uri": "https://localhost:8080/",
          "height": 106
        },
        "id": "B_KCb5dKDwEM",
        "outputId": "c551800a-60cd-46ac-bc3d-09c229154a6f"
      },
      "execution_count": 1,
      "outputs": [
        {
          "output_type": "error",
          "ename": "SyntaxError",
          "evalue": "expected ':' (ipython-input-3462147034.py, line 4)",
          "traceback": [
            "\u001b[0;36m  File \u001b[0;32m\"/tmp/ipython-input-3462147034.py\"\u001b[0;36m, line \u001b[0;32m4\u001b[0m\n\u001b[0;31m    def favourite_sentences()\u001b[0m\n\u001b[0m                             ^\u001b[0m\n\u001b[0;31mSyntaxError\u001b[0m\u001b[0;31m:\u001b[0m expected ':'\n"
          ]
        }
      ]
    }
  ]
}