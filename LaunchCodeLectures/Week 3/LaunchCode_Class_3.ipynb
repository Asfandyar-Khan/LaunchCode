{
  "nbformat": 4,
  "nbformat_minor": 0,
  "metadata": {
    "colab": {
      "provenance": []
    },
    "kernelspec": {
      "name": "python3",
      "display_name": "Python 3"
    },
    "language_info": {
      "name": "python"
    }
  },
  "cells": [
    {
      "cell_type": "markdown",
      "source": [
        "#**Finishing Chapter 2**"
      ],
      "metadata": {
        "id": "wwtf_8xo3wpn"
      }
    },
    {
      "cell_type": "markdown",
      "source": [
        "**Advanced String and Print Exercises**"
      ],
      "metadata": {
        "id": "TioHj6e44DDX"
      }
    },
    {
      "cell_type": "code",
      "source": [
        "# In the print function below, notice how the objects are separated! -> By a comma!\n",
        "\n",
        "\n",
        "x = \"apple\"\n",
        "y = \"banana\"\n",
        "z = \"cherry\"\n",
        "\n",
        "print(x,y,z)\n",
        "\n",
        "\n",
        "\n",
        "# We can do the same with integers\n",
        "\n",
        "a = 1\n",
        "b = 2\n",
        "c = 3\n",
        "\n",
        "print(a,b,c)\n",
        "\n",
        "print(a,\"\\n\",b,\"\\n\",c)\n",
        "\n",
        "\n",
        "\n",
        "print(\"Hello\\nWorld\")\n",
        "\n",
        "\n",
        "print(\"Hello\",\"how are you?\",\"My name is Bob\")\n",
        "\n",
        "\n",
        "\n",
        "\n",
        "\n",
        "# What if we want to print objects on a new line? We use \\n - slash is very important!\n",
        "\n",
        "print(a,\"\\n\",b, \"\\n\",c)\n",
        "\n",
        "\n",
        "# This \\n parameter will apply anywhere in the string!\n",
        "\n",
        "print(\"Hello\\nWorld\")\n",
        "\n",
        "\n",
        "# Using the separator parameter\n",
        "\n",
        "print(\"Hello\", \"how are you?\", sep=\"---\")\n",
        "\n",
        "# Suppose you only want to leave a space between the strings/numbers\n",
        "\n",
        "print(a, b, sep=\"---\")\n",
        "\n",
        "\n",
        "# Same example without separator\n",
        "\n",
        "print(a, b)\n"
      ],
      "metadata": {
        "id": "HgBef4y44L9q"
      },
      "execution_count": null,
      "outputs": []
    },
    {
      "cell_type": "markdown",
      "source": [
        "**Input Function**"
      ],
      "metadata": {
        "id": "jePI3tpV38I2"
      }
    },
    {
      "cell_type": "code",
      "source": [
        "name = input('Enter your name =')\n",
        "age = input('Enter your age = ')\n",
        "print('Your name is ', name , ',and your age is = ',age)"
      ],
      "metadata": {
        "id": "uI7NRdVA4ApO"
      },
      "execution_count": null,
      "outputs": []
    },
    {
      "cell_type": "markdown",
      "source": [
        "#Chapter 3 - Functions"
      ],
      "metadata": {
        "id": "Gr7GR-G37L93"
      }
    },
    {
      "cell_type": "markdown",
      "source": [
        "**3.1 Defining a New Function**"
      ],
      "metadata": {
        "id": "eE1zonugIKQO"
      }
    },
    {
      "cell_type": "code",
      "source": [],
      "metadata": {
        "id": "MSp3w8HiITI1"
      },
      "execution_count": null,
      "outputs": []
    },
    {
      "cell_type": "markdown",
      "source": [
        "**3.2 The parameters of a Function**"
      ],
      "metadata": {
        "id": "M1dCv-hUITmL"
      }
    },
    {
      "cell_type": "code",
      "source": [],
      "metadata": {
        "id": "Pb8nYBlEIYGI"
      },
      "execution_count": null,
      "outputs": []
    },
    {
      "cell_type": "markdown",
      "source": [
        "**3.3 Calling a Function**"
      ],
      "metadata": {
        "id": "RHb0iu15IYz1"
      }
    },
    {
      "cell_type": "code",
      "source": [],
      "metadata": {
        "id": "aM9Ew6ugIdEQ"
      },
      "execution_count": null,
      "outputs": []
    },
    {
      "cell_type": "markdown",
      "source": [],
      "metadata": {
        "id": "Mz_eiZQaIdWS"
      }
    }
  ]
}