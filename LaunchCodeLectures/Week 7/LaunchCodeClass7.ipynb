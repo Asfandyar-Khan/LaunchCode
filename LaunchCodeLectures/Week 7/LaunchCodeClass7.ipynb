{
  "nbformat": 4,
  "nbformat_minor": 0,
  "metadata": {
    "colab": {
      "provenance": []
    },
    "kernelspec": {
      "name": "python3",
      "display_name": "Python 3"
    },
    "language_info": {
      "name": "python"
    }
  },
  "cells": [
    {
      "cell_type": "markdown",
      "source": [
        "#Week 6 Homework Questions - Review"
      ],
      "metadata": {
        "id": "8kI588U7G9me"
      }
    },
    {
      "cell_type": "code",
      "execution_count": null,
      "metadata": {
        "id": "T_M-x7SmEwR1"
      },
      "outputs": [],
      "source": [
        "#Question 3 - Using same function twice\n",
        "\n",
        "\"\"\"Question:\n",
        "Make a function called double_number(n) that returns n multiplied by 2.\n",
        "Call your function with 3 and 5, add the two returned results together, and print the total.\n",
        "Hint:\n",
        "You can add the results like this:\n",
        "total = double_number(3) + double_number(5)\n",
        "\"\"\"\n",
        "def double_number(n):\n",
        "  return n*2\n",
        "total = double_number(3) + double_number(5)\n",
        "print(total)\n",
        "\n",
        "\n",
        "\n",
        "#Question 8 - Mixing Return Values and Loops\n",
        "\"\"\"\n",
        "Make a function called square(n) that returns n times n.\n",
        "Then, use a for loop with range(1, 6) to print the square of each number from 1 to 5.\n",
        "\n",
        "Hint:\n",
        "Call your function inside the loop like square(i).\n",
        "\n",
        "\"\"\"\n",
        "def square(n):\n",
        "  return n*n\n",
        "\n",
        "for i in range(1,6):\n",
        "  print(square(i))\n",
        "\n",
        "\n",
        "#Question 9 - Sum of a Range\n",
        "\"\"\"\n",
        "Make a function called sum_numbers(start, stop) that:\n",
        "    1. Add all the numbers in range(start, stop).\n",
        "    2. Returns the total sum.\n",
        "Call your function with (1, 6) and print the result.\n",
        "\n",
        "range(1,6) = 1,2,3,4,5\n",
        "total = 1+2+3+4+5 = 15\n",
        "\n",
        "Hint:\n",
        "Make a variable total = 0 before the loop, then keep adding each number to it.\n",
        "\"\"\"\n",
        "def sum_numbers(start,stop):\n",
        "  total = 0\n",
        "  for i in range(start,stop):\n",
        "    total = i + total\n",
        "  return total\n",
        "\n",
        "\n",
        "final = sum_numbers(1,6)\n",
        "print(final)\n"
      ]
    },
    {
      "cell_type": "markdown",
      "source": [
        "#Knowledge Check - Functions with Return Values"
      ],
      "metadata": {
        "id": "RY8eyYToICU4"
      }
    },
    {
      "cell_type": "code",
      "source": [
        "def subtract_numbers(number1,number2):\n",
        "  result = number1 - number2\n",
        "  return result\n",
        "\n",
        "answer = subtract_numbers(10,5)\n",
        "print(answer)"
      ],
      "metadata": {
        "id": "jbwolxLtIGp9"
      },
      "execution_count": null,
      "outputs": []
    },
    {
      "cell_type": "markdown",
      "source": [
        "#For Loop - Using the range() function - Review from last week"
      ],
      "metadata": {
        "id": "WKfWERdSIHB4"
      }
    },
    {
      "cell_type": "code",
      "source": [
        "#Example 1 - Range\n",
        "\n",
        "#How do we say this? For each item in range 2 (which includes only 0 and 1), print the item.\n",
        "\n",
        "for i in range(2):\n",
        "    print(i)\n",
        "\n",
        "#Remember, range(2) = 0,1\n",
        "#This means that range(2) creates a group of numbers that go 0 to 2 -> BUT NOT INCLUDING 2! This means range(2) is equal to a range of numbers that include 0 and 1.\n",
        "\n",
        "\n",
        "#Example 2 - range(start,stop,step)\n",
        "\n",
        "#Notice how the number 10 will not be printed!\n",
        "\n",
        "\n",
        "for i in range(0, 10):\n",
        "    print(i)\n",
        "\n",
        "\n",
        "\n",
        "#Example 3 - range(start,stop,step)\n",
        "\n",
        "for i in range(0, 10, 1):\n",
        "    print(i)\n"
      ],
      "metadata": {
        "id": "iHVWE_etIPN0"
      },
      "execution_count": null,
      "outputs": []
    },
    {
      "cell_type": "markdown",
      "source": [
        "#Knowledge Check - For Loops"
      ],
      "metadata": {
        "id": "bQy7w-B-ej3t"
      }
    },
    {
      "cell_type": "code",
      "source": [
        "#Write a for loop that prints the numbers: 5,7,9,11,13\n",
        "#Recall, range syntax is range(start,stop,step)\n",
        "\n",
        "for i in range(5,14,2):\n",
        "  print(i)"
      ],
      "metadata": {
        "id": "m1hNMWUXeqch"
      },
      "execution_count": null,
      "outputs": []
    },
    {
      "cell_type": "markdown",
      "source": [
        "#New Python Data Type - Lists"
      ],
      "metadata": {
        "id": "BQSPfDq5IeGA"
      }
    },
    {
      "cell_type": "code",
      "source": [
        "#Create a variable called \"list\"\n",
        "\n",
        "list = [0,100,200]\n",
        "\n",
        "print(list)\n",
        "\n",
        "type(list)\n",
        "\n",
        "# Example 1 - List of fruits\n",
        "fruits = [\"apple\", \"banana\", \"cherry\", \"mango\"]\n",
        "print(fruits)\n",
        "\n",
        "fruits.append('berry')\n",
        "print(fruits)\n",
        "\n",
        "\n",
        "# Example 2 - List of numbers\n",
        "numbers = [3, 7, 12, 18, 25]\n",
        "print(numbers)\n",
        "\n",
        "\n",
        "# Example 3 - Mixed list (strings + numbers)\n",
        "mixed = [\"dog\", 5, \"cat\", 10]\n",
        "print(mixed)\n",
        "\n",
        "\n",
        "# Example 4 - Empty list\n",
        "empty_list = []\n",
        "print(empty_list)\n",
        "\n",
        "\n"
      ],
      "metadata": {
        "id": "1Vp6pLkVIlkv"
      },
      "execution_count": null,
      "outputs": []
    },
    {
      "cell_type": "markdown",
      "source": [
        "#Lists - Using them in Functions and For Loops\n"
      ],
      "metadata": {
        "id": "0CoXZ2_JJkZq"
      }
    },
    {
      "cell_type": "code",
      "source": [
        "# Example 1 - Function that prints all fruits\n",
        "def show_fruits():\n",
        "    fruits = [\"apple\", \"banana\", \"cherry\"]\n",
        "    for fruit in fruits:\n",
        "        print(fruit)\n",
        "\n",
        "show_fruits()\n",
        "\n",
        "# Example 2 - Function with a list as a parameter\n",
        "def print_colors(colors):\n",
        "    for color in colors:\n",
        "        print(\"I like\", color)\n",
        "\n",
        "print_colors([\"red\", \"blue\", \"green\"])\n",
        "\n",
        "# Example 3 - Adding numbers in a list\n",
        "def sum_numbers(numbers):\n",
        "    total = 0\n",
        "    for n in numbers:\n",
        "        total += n\n",
        "    return total\n",
        "\n",
        "print(sum_numbers([1, 2, 3, 4, 5]))\n",
        "\n",
        "# Example 4 - Multiply each number in a list by 2\n",
        "def double_numbers(numbers):\n",
        "    for n in numbers:\n",
        "        print(n * 2)\n",
        "\n",
        "double_numbers([2, 4, 6, 8])\n",
        "\n",
        "# Example 5 - Function that says hello to everyone in a list\n",
        "def say_hello(names):\n",
        "    for name in names:\n",
        "        print(\"Hello\", name + \"!\")\n",
        "\n",
        "say_hello([\"Alice\", \"Bob\", \"Charlie\"])"
      ],
      "metadata": {
        "id": "9Zic0qpvJwLu"
      },
      "execution_count": null,
      "outputs": []
    },
    {
      "cell_type": "markdown",
      "source": [
        "#Knowledge Check - Lists"
      ],
      "metadata": {
        "id": "eGYw9El-K1RC"
      }
    },
    {
      "cell_type": "code",
      "source": [],
      "metadata": {
        "id": "-veKSkSmK3Ov"
      },
      "execution_count": null,
      "outputs": []
    },
    {
      "cell_type": "markdown",
      "source": [
        "#Lists - Important Functions Within It!"
      ],
      "metadata": {
        "id": "-3zr7p_BLKpa"
      }
    },
    {
      "cell_type": "code",
      "source": [
        "# Example 1 - Append (add item to end of list)\n",
        "fruits = [\"apple\", \"banana\"]\n",
        "fruits.append(\"cherry\")\n",
        "print(fruits)\n",
        "\n",
        "# Example 2 - Insert (add item at specific position)\n",
        "colors = [\"red\", \"blue\", \"green\"]\n",
        "colors.insert(1, \"yellow\")  # insert at index 1\n",
        "print(colors)\n",
        "\n",
        "# Example 3 - Remove (delete a specific item)\n",
        "animals = [\"dog\", \"cat\", \"rabbit\"]\n",
        "animals.remove(\"cat\")\n",
        "print(animals)\n",
        "\n",
        "# Example 4 - Pop (remove item by index, or last item if no index given)\n",
        "numbers = [10, 20, 30, 40]\n",
        "numbers.pop(2)  # removes 30\n",
        "print(numbers)\n",
        "\n",
        "# Example 5 - Sort (arrange items in order)\n",
        "scores = [50, 20, 90, 70]\n",
        "scores.sort()\n",
        "print(scores)\n",
        "\n",
        "# Example 6 - Reverse (reverse the order of items)\n",
        "letters = [\"a\", \"b\", \"c\", \"d\"]\n",
        "letters.reverse()\n",
        "print(letters)\n",
        "\n",
        "\n",
        "#Example 7 - Index (accessing items in a list)\n",
        "numbers = [1,2,3]\n",
        "print(numbers[1])"
      ],
      "metadata": {
        "id": "cIYuarzJLMwK"
      },
      "execution_count": null,
      "outputs": []
    },
    {
      "cell_type": "markdown",
      "source": [
        "#Tuples"
      ],
      "metadata": {
        "id": "hTMPkgr1K3zj"
      }
    },
    {
      "cell_type": "code",
      "source": [
        "# Example 1 - Append (add item to end of list)\n",
        "fruits = [\"apple\", \"banana\"]\n",
        "fruits.append(\"cherry\")\n",
        "print(fruits)\n",
        "\n",
        "# Example 2 - Insert (add item at specific position)\n",
        "colors = [\"red\", \"blue\", \"green\"]\n",
        "colors.insert(1, \"yellow\")  # insert at index 1\n",
        "print(colors)\n",
        "\n",
        "# Example 3 - Remove (delete a specific item)\n",
        "animals = [\"dog\", \"cat\", \"rabbit\"]\n",
        "animals.remove(\"cat\")\n",
        "print(animals)\n",
        "\n",
        "# Example 4 - Pop (remove item by index, or last item if no index given)\n",
        "numbers = [10, 20, 30, 40]\n",
        "numbers.pop(2)  # removes 30\n",
        "print(numbers)\n",
        "\n",
        "# Example 5 - Sort (arrange items in order)\n",
        "scores = [50, 20, 90, 70]\n",
        "scores.sort()\n",
        "print(scores)\n",
        "\n",
        "# Example 6 - Reverse (reverse the order of items)\n",
        "letters = [\"a\", \"b\", \"c\", \"d\"]\n",
        "letters.reverse()\n",
        "print(letters)"
      ],
      "metadata": {
        "id": "v8GN4qtoL0BA"
      },
      "execution_count": null,
      "outputs": []
    },
    {
      "cell_type": "markdown",
      "source": [
        "#Lists and Tuples - What makes them different?"
      ],
      "metadata": {
        "id": "DEpjvWxNL8nl"
      }
    },
    {
      "cell_type": "code",
      "source": [
        "# Example 1 - Lists can change (mutable), Tuples cannot (immutable)\n",
        "my_list = [\"apple\", \"banana\", \"cherry\"]\n",
        "my_tuple = (\"apple\", \"banana\", \"cherry\")\n",
        "\n",
        "# Changing the list works\n",
        "my_list[0] = \"orange\"\n",
        "print(my_list)\n",
        "\n",
        "# Changing the tuple will give an error:\n",
        "# my_tuple[0] = \"orange\"   # ❌ Not allowed\n",
        "\n",
        "# Example 2 - Lists can grow, Tuples cannot\n",
        "numbers_list = [1, 2, 3]\n",
        "numbers_tuple = (1, 2, 3)\n",
        "\n",
        "numbers_list.append(4)   # ✅ Works\n",
        "print(numbers_list)\n",
        "\n",
        "# numbers_tuple.append(4)  # ❌ Error: Tuples have no append\n",
        "\n",
        "# Example 3 - Iterating works the same way\n",
        "for item in my_list:\n",
        "    print(\"List item:\", item)\n",
        "\n",
        "for item in my_tuple:\n",
        "    print(\"Tuple item:\", item)\n",
        "\n",
        "# Example 4 - Tuples use () and Lists use []\n",
        "list_example = [10, 20, 30]\n",
        "tuple_example = (10, 20, 30)\n",
        "\n",
        "print(\"This is a list:\", list_example)\n",
        "print(\"This is a tuple:\", tuple_example)\n",
        "\n",
        "# Example 5 - Tuples are often used for fixed data\n",
        "days_in_week = (\"Monday\", \"Tuesday\", \"Wednesday\", \"Thursday\", \"Friday\", \"Saturday\", \"Sunday\")\n",
        "print(days_in_week)"
      ],
      "metadata": {
        "id": "KczM2TeDL_Ad"
      },
      "execution_count": null,
      "outputs": []
    }
  ]
}