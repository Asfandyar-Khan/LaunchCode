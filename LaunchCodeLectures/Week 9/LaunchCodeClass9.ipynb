{
  "nbformat": 4,
  "nbformat_minor": 0,
  "metadata": {
    "colab": {
      "provenance": [],
      "collapsed_sections": [
        "LxC04c1QRQum",
        "9hq6WM_4RlPD"
      ]
    },
    "kernelspec": {
      "name": "python3",
      "display_name": "Python 3"
    },
    "language_info": {
      "name": "python"
    }
  },
  "cells": [
    {
      "cell_type": "markdown",
      "source": [
        "#Week 8 Homework Review"
      ],
      "metadata": {
        "id": "LxC04c1QRQum"
      }
    },
    {
      "cell_type": "code",
      "execution_count": null,
      "metadata": {
        "id": "fBQQsAB_ROQV"
      },
      "outputs": [],
      "source": [
        "\"\"\"Question 3. Loop Through a List\n",
        "Use a for loop to print each pet in pets = [\"dog\", \"cat\", \"fish\"].\n",
        "\n",
        "Hint:\n",
        "First create your list, then use a for loop to print each item of the list.\"\"\"\n",
        "\n",
        "pets = [\"dog\", \"cat\", \"fish\"]\n",
        "\n",
        "for i in pets:\n",
        "  print(i)\n",
        "\n",
        "\"\"\"4. Function with a List\n",
        "Question:\n",
        "Write a function say_hello(names) that takes a list of names and prints:\n",
        "Hello Alice!\n",
        "Hello Bob!\n",
        "for each name in the list.\n",
        "\n",
        "Hint:\n",
        "First create your list, then use a for loop to print “Hello” and use .format for the name.\"\"\"\n",
        "\n",
        "def say_hello(names):\n",
        "  for i in names:\n",
        "    print(\"Hello {}!\".format(i))\n",
        "\n",
        "say_hello([\"Alice\", \"Bob\"])\n",
        "\n",
        "\n",
        "\"\"\"5. Function that Adds Numbers\n",
        "Question:\n",
        "Write a function add_numbers(numbers) that adds up all the numbers in a list and returns the total.\n",
        "\n",
        "Test it with [1, 2, 3, 4].\n",
        "Expected Output:\n",
        "10\n",
        "\"\"\"\n",
        "\n",
        "def add_numbers(numbers):\n",
        "  sum_total = 0\n",
        "  for i in numbers:\n",
        "    sum_total += i # the same as: sum_total = sum_total + i\n",
        "\n",
        "    \"\"\" sum_total += i is the same as sum_total = sum_total + i\n",
        "    \"\"\"\n",
        "  return sum_total\n",
        "\n",
        "add_numbers([1, 2, 3, 4])\n",
        "\n",
        "\n"
      ]
    },
    {
      "cell_type": "markdown",
      "source": [
        "#Conditionals"
      ],
      "metadata": {
        "id": "2_YRXM_HRSY5"
      }
    },
    {
      "cell_type": "markdown",
      "source": [
        "Weather Example"
      ],
      "metadata": {
        "id": "QrE0X9ntRYhu"
      }
    },
    {
      "cell_type": "code",
      "source": [
        "weather = input(\"Enter what type of weather it is outside: \") #The variable is set to a string called raining.\n",
        "\n",
        "if weather == \"sunny\": #Here we say: if the weather is EQUAL to a string called sunny.\n",
        "    print(\"Wear sunglasses! 😎\")\n",
        "elif weather == \"raining\":\n",
        "    print(\"Don't forget your umbrella! ☔\")\n",
        "elif weather == \"snowing\":\n",
        "    print(\"Wear a jacket! 🧥\")\n",
        "elif weather == \"windy\":\n",
        "    print(\"Wear a hat! 🎩\")\n",
        "\n",
        "else:\n",
        "    print(\"Have a great day! 🙂\")\n",
        "# This would print: \"Don't forget your umbrella! ☔\"\n",
        "\n"
      ],
      "metadata": {
        "id": "ThEUJsaPRWgz",
        "outputId": "9219c110-5290-4d4b-d2c9-c699ec452264",
        "colab": {
          "base_uri": "https://localhost:8080/",
          "height": 375
        }
      },
      "execution_count": 1,
      "outputs": [
        {
          "output_type": "error",
          "ename": "KeyboardInterrupt",
          "evalue": "Interrupted by user",
          "traceback": [
            "\u001b[0;31m---------------------------------------------------------------------------\u001b[0m",
            "\u001b[0;31mKeyboardInterrupt\u001b[0m                         Traceback (most recent call last)",
            "\u001b[0;32m/tmp/ipython-input-1469667097.py\u001b[0m in \u001b[0;36m<cell line: 0>\u001b[0;34m()\u001b[0m\n\u001b[0;32m----> 1\u001b[0;31m \u001b[0mweather\u001b[0m \u001b[0;34m=\u001b[0m \u001b[0minput\u001b[0m\u001b[0;34m(\u001b[0m\u001b[0;34m\"Enter what type of weather it is outside: \"\u001b[0m\u001b[0;34m)\u001b[0m \u001b[0;31m#The variable is set to a string called raining.\u001b[0m\u001b[0;34m\u001b[0m\u001b[0;34m\u001b[0m\u001b[0m\n\u001b[0m\u001b[1;32m      2\u001b[0m \u001b[0;34m\u001b[0m\u001b[0m\n\u001b[1;32m      3\u001b[0m \u001b[0;32mif\u001b[0m \u001b[0mweather\u001b[0m \u001b[0;34m==\u001b[0m \u001b[0;34m\"sunny\"\u001b[0m\u001b[0;34m:\u001b[0m \u001b[0;31m#Here we say: if the weather is EQUAL to a string called sunny.\u001b[0m\u001b[0;34m\u001b[0m\u001b[0;34m\u001b[0m\u001b[0m\n\u001b[1;32m      4\u001b[0m     \u001b[0mprint\u001b[0m\u001b[0;34m(\u001b[0m\u001b[0;34m\"Wear sunglasses! 😎\"\u001b[0m\u001b[0;34m)\u001b[0m\u001b[0;34m\u001b[0m\u001b[0;34m\u001b[0m\u001b[0m\n\u001b[1;32m      5\u001b[0m \u001b[0;32melif\u001b[0m \u001b[0mweather\u001b[0m \u001b[0;34m==\u001b[0m \u001b[0;34m\"raining\"\u001b[0m\u001b[0;34m:\u001b[0m\u001b[0;34m\u001b[0m\u001b[0;34m\u001b[0m\u001b[0m\n",
            "\u001b[0;32m/usr/local/lib/python3.12/dist-packages/ipykernel/kernelbase.py\u001b[0m in \u001b[0;36mraw_input\u001b[0;34m(self, prompt)\u001b[0m\n\u001b[1;32m   1175\u001b[0m                 \u001b[0;34m\"raw_input was called, but this frontend does not support input requests.\"\u001b[0m\u001b[0;34m\u001b[0m\u001b[0;34m\u001b[0m\u001b[0m\n\u001b[1;32m   1176\u001b[0m             )\n\u001b[0;32m-> 1177\u001b[0;31m         return self._input_request(\n\u001b[0m\u001b[1;32m   1178\u001b[0m             \u001b[0mstr\u001b[0m\u001b[0;34m(\u001b[0m\u001b[0mprompt\u001b[0m\u001b[0;34m)\u001b[0m\u001b[0;34m,\u001b[0m\u001b[0;34m\u001b[0m\u001b[0;34m\u001b[0m\u001b[0m\n\u001b[1;32m   1179\u001b[0m             \u001b[0mself\u001b[0m\u001b[0;34m.\u001b[0m\u001b[0m_parent_ident\u001b[0m\u001b[0;34m[\u001b[0m\u001b[0;34m\"shell\"\u001b[0m\u001b[0;34m]\u001b[0m\u001b[0;34m,\u001b[0m\u001b[0;34m\u001b[0m\u001b[0;34m\u001b[0m\u001b[0m\n",
            "\u001b[0;32m/usr/local/lib/python3.12/dist-packages/ipykernel/kernelbase.py\u001b[0m in \u001b[0;36m_input_request\u001b[0;34m(self, prompt, ident, parent, password)\u001b[0m\n\u001b[1;32m   1217\u001b[0m             \u001b[0;32mexcept\u001b[0m \u001b[0mKeyboardInterrupt\u001b[0m\u001b[0;34m:\u001b[0m\u001b[0;34m\u001b[0m\u001b[0;34m\u001b[0m\u001b[0m\n\u001b[1;32m   1218\u001b[0m                 \u001b[0;31m# re-raise KeyboardInterrupt, to truncate traceback\u001b[0m\u001b[0;34m\u001b[0m\u001b[0;34m\u001b[0m\u001b[0m\n\u001b[0;32m-> 1219\u001b[0;31m                 \u001b[0;32mraise\u001b[0m \u001b[0mKeyboardInterrupt\u001b[0m\u001b[0;34m(\u001b[0m\u001b[0;34m\"Interrupted by user\"\u001b[0m\u001b[0;34m)\u001b[0m \u001b[0;32mfrom\u001b[0m \u001b[0;32mNone\u001b[0m\u001b[0;34m\u001b[0m\u001b[0;34m\u001b[0m\u001b[0m\n\u001b[0m\u001b[1;32m   1220\u001b[0m             \u001b[0;32mexcept\u001b[0m \u001b[0mException\u001b[0m\u001b[0;34m:\u001b[0m\u001b[0;34m\u001b[0m\u001b[0;34m\u001b[0m\u001b[0m\n\u001b[1;32m   1221\u001b[0m                 \u001b[0mself\u001b[0m\u001b[0;34m.\u001b[0m\u001b[0mlog\u001b[0m\u001b[0;34m.\u001b[0m\u001b[0mwarning\u001b[0m\u001b[0;34m(\u001b[0m\u001b[0;34m\"Invalid Message:\"\u001b[0m\u001b[0;34m,\u001b[0m \u001b[0mexc_info\u001b[0m\u001b[0;34m=\u001b[0m\u001b[0;32mTrue\u001b[0m\u001b[0;34m)\u001b[0m\u001b[0;34m\u001b[0m\u001b[0;34m\u001b[0m\u001b[0m\n",
            "\u001b[0;31mKeyboardInterrupt\u001b[0m: Interrupted by user"
          ]
        }
      ]
    },
    {
      "cell_type": "markdown",
      "source": [
        "#Conditionals - Operators"
      ],
      "metadata": {
        "id": "kRUNk8MZRWpI"
      }
    },
    {
      "cell_type": "code",
      "source": [
        "def start_calculator():\n",
        "\n",
        "  choice = input(\"Enter your choice: \")\n",
        "\n",
        "  if choice == \"1\":\n",
        "    print(\"Choice is {}\".format(choice))\n",
        "\n",
        "  elif choice == \"2\":\n",
        "    print(\"Choice is {}\".format(choice))\n",
        "\n",
        "\n",
        "  else:\n",
        "        print(\"Please choose a number between 1 and 2.\")\n",
        "\n",
        "start_calculator()"
      ],
      "metadata": {
        "colab": {
          "base_uri": "https://localhost:8080/"
        },
        "id": "AphllD0Zp5TU",
        "outputId": "66e6aa57-b5b6-439f-d784-54c6f2077a8f"
      },
      "execution_count": null,
      "outputs": [
        {
          "output_type": "stream",
          "name": "stdout",
          "text": [
            "Enter your choice: Seven\n",
            "Please choose a number between 1 and 7.\n"
          ]
        }
      ]
    },
    {
      "cell_type": "code",
      "source": [
        "number = input(\"Enter a number: \")\n",
        "\n",
        "\n",
        "\n",
        "if number % 2 == 0:\n",
        "    print(\"Even number\")\n",
        "    if number == 1000:\n",
        "      print(\"Number is 1000!\")\n",
        "    else:\n",
        "      print(\"Number is even but not 1000\")\n",
        "else:\n",
        "  print(\"Not an integer\")"
      ],
      "metadata": {
        "colab": {
          "base_uri": "https://localhost:8080/"
        },
        "id": "3e2FZxs1knBG",
        "outputId": "cb2c5aac-a2b7-42ac-d928-90aed874df79"
      },
      "execution_count": null,
      "outputs": [
        {
          "output_type": "stream",
          "name": "stdout",
          "text": [
            "Enter a number: \"Hello\"\n",
            "Not an integer\n"
          ]
        }
      ]
    },
    {
      "cell_type": "code",
      "source": [
        "# Example 1: Equal to (==)\n",
        "fruit = \"apple\"\n",
        "if fruit == \"apple\":\n",
        "    print(\"It's an apple!\")\n",
        "else:\n",
        "    print(\"It's not an apple.\")\n",
        "\n",
        "# Example 2: Not equal to (!=)\n",
        "age = 15\n",
        "if age != 18:\n",
        "    print(\"You're not exactly 18 years old.\")\n",
        "\n",
        "# Example 3: Greater than (>)\n",
        "score = 85\n",
        "if score > 80:\n",
        "    print(\"You got a B or better!\")\n",
        "else:\n",
        "    print(\"You need to study more.\")\n",
        "\n",
        "# Example 4: Less than (<)\n",
        "temperature = 72\n",
        "if temperature < 32:\n",
        "    print(\"It's freezing outside!\")\n",
        "else:\n",
        "    print(\"It's not freezing.\")\n",
        "\n",
        "# Example 5: Greater than or equal to (>=)\n",
        "grade = 90\n",
        "if grade >= 90:\n",
        "    print(\"You got an A!\")\n",
        "elif grade >= 80:\n",
        "    print(\"You got a B.\")\n",
        "else:\n",
        "    print(\"You need to improve your score.\")\n",
        "\n",
        "# Example 6: Less than or equal to (<=)\n",
        "items_in_cart = 3\n",
        "if items_in_cart <= 5:\n",
        "    print(\"You can use the express checkout!\")\n",
        "else:\n",
        "    print(\"Please use a regular checkout.\")\n",
        "\n",
        "# Example 7: Combining multiple conditions\n",
        "number = 15\n",
        "if number > 10 and number < 20:\n",
        "    print(\"The number is between 10 and 20.\")\n",
        "\n",
        "# Example 8: More complex example\n",
        "username = \"student123\"\n",
        "password = \"pythonrocks\"\n",
        "\n",
        "if username == \"student123\" and password == \"pythonrocks\":\n",
        "    print(\"Login successful!\")\n",
        "else:\n",
        "    print(\"Invalid username or password.\")\n",
        "\n",
        "# Example 9: Checking if a value is in a range\n",
        "test_score = 87\n",
        "if 80 <= test_score < 90:\n",
        "    print(\"You got a B!\")\n",
        "\n",
        "# Example 10: Using with user input\n",
        "user_age = int(input(\"How old are you? \"))\n",
        "if user_age >= 13:\n",
        "    print(\"You can create a social media account.\")\n",
        "else:\n",
        "    print(\"You're too young for social media.\")"
      ],
      "metadata": {
        "id": "3iX-jD7RRgay"
      },
      "execution_count": null,
      "outputs": []
    },
    {
      "cell_type": "markdown",
      "source": [
        "#Dictionaries"
      ],
      "metadata": {
        "id": "9hq6WM_4RlPD"
      }
    },
    {
      "cell_type": "code",
      "source": [
        "#How to retrieve items from a list\n",
        "lst = ['zero', 'one', 'two']\n",
        "\n",
        "lst[1]\n",
        "\n",
        "#Create an empty dictionary\n",
        "numbers = {}\n",
        "\n",
        "numbers['zero'] = 0\n",
        "\n",
        "\n",
        "numbers\n",
        "\n",
        "#Add more items....\n",
        "\n",
        "numbers['one'] = 1\n",
        "numbers['two'] = 2\n",
        "\n",
        "numbers\n",
        "\n",
        "\n"
      ],
      "metadata": {
        "colab": {
          "base_uri": "https://localhost:8080/"
        },
        "id": "JkcTfD8QUPLB",
        "outputId": "1c41e7f2-548a-4d62-b40f-19de010433bc"
      },
      "execution_count": null,
      "outputs": [
        {
          "output_type": "execute_result",
          "data": {
            "text/plain": [
              "{'zero': 0, 'one': 1, 'two': 2}"
            ]
          },
          "metadata": {},
          "execution_count": 64
        }
      ]
    },
    {
      "cell_type": "code",
      "source": [
        "# Creating a dictionary\n",
        "student = {\"name\": \"Alice\", \"age\": 12, \"grade\": \"7th\"}\n",
        "\n",
        "# Accessing values using keys\n",
        "print(student[\"name\"])   # Output: Alice\n",
        "print(student[\"age\"])    # Output: 12\n",
        "\n",
        "# Adding a new key-value pair\n",
        "student[\"favorite_subject\"] = \"Math\"\n",
        "print(student)\n",
        "\n",
        "# Changing a value\n",
        "student[\"grade\"] = \"8th\"\n",
        "print(student)\n",
        "\n",
        "# Removing a key-value pair\n",
        "del student[\"age\"]\n",
        "print(student)\n",
        "\n",
        "# Looping through keys and values\n",
        "for key, value in student.items():\n",
        "    print(key, \":\", value)\n",
        "\n",
        "# Example: using a dictionary to track scores\n",
        "scores = {\"Alice\": 10, \"Bob\": 8, \"Charlie\": 12}\n",
        "print(scores)\n",
        "\n",
        "# Updating a score\n",
        "scores[\"Bob\"] += 5\n",
        "print(scores)\n",
        "\n",
        "# Adding a new player\n",
        "scores[\"Diana\"] = 7\n",
        "print(scores)"
      ],
      "metadata": {
        "colab": {
          "base_uri": "https://localhost:8080/"
        },
        "id": "IP9qOiOyUCu8",
        "outputId": "031d8239-7883-4425-de9e-12929933e327"
      },
      "execution_count": null,
      "outputs": [
        {
          "output_type": "stream",
          "name": "stdout",
          "text": [
            "Alice\n",
            "12\n",
            "{'name': 'Alice', 'age': 12, 'grade': '7th', 'favorite_subject': 'Math'}\n",
            "{'name': 'Alice', 'age': 12, 'grade': '8th', 'favorite_subject': 'Math'}\n",
            "{'name': 'Alice', 'grade': '8th', 'favorite_subject': 'Math'}\n",
            "name : Alice\n",
            "grade : 8th\n",
            "favorite_subject : Math\n",
            "{'Alice': 10, 'Bob': 8, 'Charlie': 12}\n",
            "{'Alice': 10, 'Bob': 13, 'Charlie': 12}\n",
            "{'Alice': 10, 'Bob': 13, 'Charlie': 12, 'Diana': 7}\n"
          ]
        }
      ]
    }
  ]
}