{
  "nbformat": 4,
  "nbformat_minor": 0,
  "metadata": {
    "colab": {
      "provenance": []
    },
    "kernelspec": {
      "name": "python3",
      "display_name": "Python 3"
    },
    "language_info": {
      "name": "python"
    }
  },
  "cells": [
    {
      "cell_type": "markdown",
      "source": [
        "#Review - Last Week's Homework Questions"
      ],
      "metadata": {
        "id": "mfYp3ljACMFs"
      }
    },
    {
      "cell_type": "code",
      "execution_count": null,
      "metadata": {
        "id": "EGG6Y--nADAr"
      },
      "outputs": [],
      "source": [
        "#Question 10 - Greet Someone\n",
        "\n",
        "\"\"\"\n",
        "Create a function called greet(name) that takes one argument (name) and prints:\n",
        "\n",
        "Hi, [name]! Nice to meet you.\n",
        "Call the function with your own name.\n",
        "Example output:\n",
        "\n",
        "Hi, Sarah! Nice to meet you.\n",
        "\n",
        "\n",
        "\"\"\"\n",
        "\n",
        "def greet(name):\n",
        "  print(\"Hi, {}! Nice to meet you\".format(name))\n",
        "\n",
        "\n",
        "greet(\"Bob\")\n",
        "\n",
        "#Question 11 - Add numbers\n",
        "\n",
        "\"\"\"\n",
        "Write a function called add_numbers(a, b) that takes two numbers as arguments and prints their sum.\n",
        "Call the function using two numbers of your choice.\n",
        "Example output:\n",
        "\n",
        "The sum is: 17\n",
        "Bonus: Instead of just printing the sum, use a sentence like:\n",
        "\n",
        "print(\"The sum of {} and {} is {}\".format(a,b,a+b))\n",
        "\n",
        "\"\"\"\n",
        "\n",
        "def add_numbers(a,b):\n",
        "  total = a+b\n",
        "  print(\"The sum of {} and {} is {}\".format(a,b,total))\n",
        "\n",
        "#Calling the function\n",
        "add_numbers(5,10)\n",
        "\n",
        "\n",
        "#Question 12 - Party planner\n",
        "\n",
        "\"\"\"\n",
        "Write a function called party_items(friends, snacks) that takes in two numbers:\n",
        "    • friends: how many friends are coming\n",
        "    • snacks: how many snacks each person gets\n",
        "Your function should calculate the total snacks needed and print a message like:\n",
        "\n",
        "For 5 friends, you need 25 snacks.\n",
        "Then call the function with your own numbers.\n",
        "Hint: Multiply friends * snacks.\n",
        "\n",
        "\"\"\"\n",
        "def party_items(friends,snacks):\n",
        "  total=friends*snacks\n",
        "  print(\"For {} friends, you need {} snacks\".format(friends,total))\n",
        "\n",
        "#Calling the function\n",
        "party_items(5,5)\n",
        "\n"
      ]
    },
    {
      "cell_type": "markdown",
      "source": [
        "#Functions - Review"
      ],
      "metadata": {
        "id": "HgXm9FT_CTqe"
      }
    },
    {
      "cell_type": "code",
      "source": [
        "#Example 1 - With no parameters (notice how the circle brackets in favourite_sentences have no variable in them!)\n",
        "\n",
        "#Creating the function\n",
        "def favourite_sentences():\n",
        "  print(\"My name is Bob\")\n",
        "  print(\"My age is 10\")\n",
        "\n",
        "#Calling the function\n",
        "favourite_sentences()\n",
        "\n",
        "\n",
        "#Example 2 - With one parameter (string)\n",
        "\n",
        "#Creating the function\n",
        "def print_twice(string):\n",
        "\n",
        "    print(string*2)\n",
        "\n",
        "\n",
        "#Calling the function\n",
        "print_twice(\"hello\")\n",
        "\n",
        "\n",
        "#Example 3 - Multiple parameters\n",
        "\n",
        "def repeat(word,n):\n",
        "    print(word*n)\n",
        "\n",
        "#Calling the function\n",
        "\n",
        "repeat(\"Hello\",4)\n",
        "\n",
        "#Example 4 - Using math operations\n",
        "\n",
        "def subtract(number1, number2):\n",
        "    result = number1 - number2\n",
        "    print(result)\n",
        "\n",
        "#Calling the function\n",
        "subtract(10,5)\n",
        "\n"
      ],
      "metadata": {
        "id": "Xl1mV-4yDLet"
      },
      "execution_count": null,
      "outputs": []
    },
    {
      "cell_type": "markdown",
      "source": [
        "#Variables - Global and Local"
      ],
      "metadata": {
        "id": "xcE0qSLtIldj"
      }
    },
    {
      "cell_type": "code",
      "source": [
        "#Global variable - Any variable outside of a function.\n",
        "\n",
        "#In this example, if you use the print function to print the value of re, you will get 3. This is because python will overwrite variables whose value you change to the last value! In this case that is 3.\n",
        "re = 1\n",
        "re = 2\n",
        "re = 3\n",
        "\n",
        "\n",
        "print(re)\n",
        "\n",
        "new_result = 10*re\n",
        "\n",
        "print(new_result)\n",
        "\n",
        "\n",
        "#Local variable - is any variable created inside a function. In this example, result is a variable that is created inside the function add! It will not work outside of it! Look at the next example to see this concept in play.\n",
        "\n",
        "def add(c,d):\n",
        "  result = c+d\n",
        "  result = c-d\n",
        "  print(result)\n",
        "\n",
        "add(10,5)\n",
        "\n",
        "\n",
        "#The line of code below will get us an error! Why? Because result was definited INSIDE the add function - which makes it a local variable! When you use the print function to print out result OUTSIDE of the function - in the global environment - it will not work!\n",
        "print(result)\n",
        "\n"
      ],
      "metadata": {
        "id": "ervDJ0hEIjKl"
      },
      "execution_count": null,
      "outputs": []
    },
    {
      "cell_type": "markdown",
      "source": [
        "#Repetition -The For Loop"
      ],
      "metadata": {
        "id": "Vkj9on61FuzA"
      }
    },
    {
      "cell_type": "code",
      "source": [
        "#Example 1 - Range\n",
        "\n",
        "for i in range(2):\n",
        "    print(i)\n",
        "\n",
        "\n",
        "\n",
        "#Example 2 - range(start,stop,step)\n",
        "#Notice how the number 10 will not be printed!\n",
        "\n",
        "\n",
        "for i in range(0, 10):\n",
        "    print(i)\n",
        "\n",
        "\n",
        "\n",
        "#Example 3 - range(start,stop,step)\n",
        "\n",
        "for i in range(0, 10, 1):\n",
        "    print(i)\n"
      ],
      "metadata": {
        "id": "9KxyeH1rF-oG"
      },
      "execution_count": null,
      "outputs": []
    }
  ]
}