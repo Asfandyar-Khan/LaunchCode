{
  "nbformat": 4,
  "nbformat_minor": 0,
  "metadata": {
    "colab": {
      "provenance": []
    },
    "kernelspec": {
      "name": "python3",
      "display_name": "Python 3"
    },
    "language_info": {
      "name": "python"
    }
  },
  "cells": [
    {
      "cell_type": "markdown",
      "source": [
        "#Week 7 Homework Questions - Review\n",
        "---\n",
        "\n"
      ],
      "metadata": {
        "id": "7T7u_OyIBi0z"
      }
    },
    {
      "cell_type": "code",
      "execution_count": null,
      "metadata": {
        "id": "Rtx6nZpQusaM"
      },
      "outputs": [],
      "source": [
        "#Question 5: Append to list\n",
        "\n",
        "\"\"\"Question:\n",
        "    1. Create an empty list called pets\n",
        "    2. Append \"dog\" and \"cat\"\n",
        "    3. Print the list using a for loop\n",
        "Hint:\n",
        "An empty list is simply []. Use pets.append(\"dog\")\n",
        "\"\"\"\n",
        "pets = []\n",
        "pets.append(\"dog\")\n",
        "pets.append(\"cat\")\n",
        "\n",
        "for i in pets:\n",
        "  print(i)\n",
        "\n",
        "#Question 8: Combine Range and Lists\n",
        "\n",
        "\"\"\"Question:\n",
        "    1. Create an empty list squares\n",
        "    2. Use a for loop with range(1, 4)\n",
        "    3. Append the square of each number (e.g., 1²=1)\n",
        "    4. Print the final list\"\"\"\n",
        "\n",
        "squares = []\n",
        "\n",
        "for i in range(1,4):\n",
        "  squares.append(i**2)\n",
        "\n",
        "print(squares)\n",
        "\n",
        "#Question 10: Challenge: List Indexing\n",
        "\n",
        "\"\"\"\n",
        "Question:\n",
        "For mixed = [5, \"hello\", 12, \"world\"], print:\n",
        "    1. The first item\n",
        "    2. The word \"world\" (use its position)\n",
        "Hint:\n",
        "Positions: [0, 1, 2, 3]\"\"\"\n",
        "\n",
        "mixed = [5, \"hello\", 12, \"world\"]\n",
        "\n",
        "print(mixed[0])\n",
        "print(mixed[3])\n"
      ]
    },
    {
      "cell_type": "markdown",
      "source": [
        "#Lists - Review"
      ],
      "metadata": {
        "id": "kAJSTMa0Lm8I"
      }
    },
    {
      "cell_type": "code",
      "source": [
        "#Create a variable called \"list\"\n",
        "\n",
        "list = [0,100,200]\n",
        "\n",
        "print(list)\n",
        "\n",
        "type(list)\n",
        "\n",
        "# Example 1 - List of fruits\n",
        "fruits = [\"apple\", \"banana\", \"cherry\", \"mango\"]\n",
        "print(fruits)\n",
        "\n",
        "fruits.append('berry')\n",
        "print(fruits)\n",
        "\n",
        "\n",
        "# Example 2 - List of numbers\n",
        "numbers = [3, 7, 12, 18, 25]\n",
        "print(numbers)\n",
        "\n",
        "\n",
        "# Example 3 - Mixed list (strings + numbers)\n",
        "mixed = [\"dog\", 5, \"cat\", 10]\n",
        "print(mixed)\n",
        "\n",
        "\n",
        "# Example 4 - Empty list\n",
        "empty_list = []\n",
        "print(empty_list)\n"
      ],
      "metadata": {
        "id": "r-qqEQ1iLof7"
      },
      "execution_count": null,
      "outputs": []
    },
    {
      "cell_type": "markdown",
      "source": [
        "#Using Lists in Functions and For Loops"
      ],
      "metadata": {
        "id": "nyRZWfIMLpB2"
      }
    },
    {
      "cell_type": "code",
      "source": [],
      "metadata": {
        "id": "IiIbdR75gXhf"
      },
      "execution_count": null,
      "outputs": []
    },
    {
      "cell_type": "code",
      "source": [
        "# Example 1 - Function that prints all fruits\n",
        "def show_fruits():\n",
        "    fruits = [\"apple\", \"banana\", \"cherry\"]\n",
        "    for fruit in fruits:\n",
        "        print(fruit)\n",
        "\n",
        "show_fruits()\n",
        "\n",
        "# Example 2 - Function with a list as a parameter\n",
        "def print_colors(colors): #Functions with one parameter\n",
        "    for color in colors: #For Loop\n",
        "        print(\"I like\", color) # .Format()\n",
        "\n",
        "print_colors([\"red\", \"blue\", \"green\"])\n",
        "\n",
        "# Example 3 - Adding numbers in a list\n",
        "def sum_numbers(numbers):\n",
        "    total = 0\n",
        "    for n in numbers:\n",
        "        total = total + n\n",
        "    return total\n",
        "\n",
        "print(sum_numbers([1, 2, 3, 4, 5]))\n",
        "\n",
        "# Example 4 - Multiply each number in a list by 2\n",
        "def double_numbers(numbers):\n",
        "    for n in numbers:\n",
        "        print(n * 2)\n",
        "\n",
        "double_numbers([2, 4, 6, 8])\n",
        "\n",
        "# Example 5 - Function that says hello to everyone in a list\n",
        "def say_hello(names):\n",
        "    for name in names:\n",
        "        print(\"Hello\", name + \"!\")\n",
        "\n",
        "say_hello([\"Alice\", \"Bob\", \"Charlie\"])"
      ],
      "metadata": {
        "id": "AzaIwH5aLwCN"
      },
      "execution_count": null,
      "outputs": []
    },
    {
      "cell_type": "markdown",
      "source": [
        "#Knowledge Check - Lists: Using .append()"
      ],
      "metadata": {
        "id": "WtGKvql822bg"
      }
    },
    {
      "cell_type": "code",
      "source": [
        "\"\"\"Question: Adding an Item to a List\n",
        "You have a list of favorite games called game_list:\n",
        "python_game_list = [\"Minecraft\", \"Roblox\"]\n",
        "\n",
        "Use the .append() method to add the game \"Fortnite\" to the end of the list.\n",
        "\n",
        "After you append it, print the list to see the result.\n",
        "\n",
        "\n",
        "\n",
        "Hint: To use append, you write the list name, followed by .append(), and put the new item inside the parentheses.\n",
        "\"\"\"\n",
        "\n",
        "python_game_list = [\"Minecraft\", \"Roblox\"]\n",
        "python_game_list.append(\"Fortnite\")\n",
        "print(python_game_list)"
      ],
      "metadata": {
        "colab": {
          "base_uri": "https://localhost:8080/"
        },
        "id": "EetZFKJH28dP",
        "outputId": "25403a59-4159-4482-98d0-60100147cda1"
      },
      "execution_count": 1,
      "outputs": [
        {
          "output_type": "stream",
          "name": "stdout",
          "text": [
            "['Minecraft', 'Roblox', 'Fortnite']\n"
          ]
        }
      ]
    },
    {
      "cell_type": "markdown",
      "source": [
        "#Knowledge Check - Lists: 2 Questions"
      ],
      "metadata": {
        "id": "9zCsEcC8mLGO"
      }
    },
    {
      "cell_type": "code",
      "source": [
        "\"\"\"Question 1: Printing a List with a Loop\n",
        "Create a function called print_animals() that has a list of 3 animals inside it (for example: \"dog\", \"cat\", \"rabbit\").\n",
        "Use a for loop to print each animal from the list.\n",
        "Hint: Define the list inside the function, then use for animal in list: and print each one.\"\"\"\n",
        "\n",
        "def print_animals():\n",
        "  list = [\"dog\",\"cat\",\"rabbit\"]\n",
        "  for animal in list:\n",
        "    print(animal)\n",
        "\n",
        "print_animals()\n",
        "\n",
        "\"\"\"Question 2: Adding Up Numbers in a List (Return Value)\n",
        "Create a function called add_list(numbers) that adds up all the numbers in a list and returns the total. Store the total in a variable called total.\n",
        "When you call the function, store the result in a variable called answer and then print answer.\n",
        "Hint: Start with total = 0 and use a for loop to add each number.\n",
        "\"\"\"\n",
        "\n",
        "def add_list(numbers):\n",
        "  total = 0\n",
        "  for number in numbers:\n",
        "    total = total + number\n",
        "  return total\n",
        "\n",
        "answer = add_list([0,1,2,3,4])\n",
        "print(answer)\n"
      ],
      "metadata": {
        "id": "IA9NSUccmOIg"
      },
      "execution_count": null,
      "outputs": []
    },
    {
      "cell_type": "markdown",
      "source": [
        "#Tuples"
      ],
      "metadata": {
        "id": "J7k3VEfwMOcu"
      }
    },
    {
      "cell_type": "code",
      "source": [
        "# Example 1: Creating Tuples\n",
        "# Using parentheses\n",
        "fruits = (\"apple\", \"banana\", \"cherry\")\n",
        "print(\"Tuple with parentheses:\", fruits)\n",
        "\n",
        "# Using the tuple() constructor\n",
        "numbers = tuple((1, 2, 3, 4, 5))\n",
        "print(\"Tuple with constructor:\", numbers)\n",
        "\n",
        "# Example 2: Accessing Tuple Elements\n",
        "print(\"First fruit:\", fruits[0])\n",
        "print(\"Last number:\", numbers[-1])\n",
        "\n"
      ],
      "metadata": {
        "id": "aDUoEa0JMQ8H"
      },
      "execution_count": null,
      "outputs": []
    },
    {
      "cell_type": "markdown",
      "source": [
        "#Lists and Tupes - What's the difference?"
      ],
      "metadata": {
        "id": "enf7IyK-MpgG"
      }
    },
    {
      "cell_type": "code",
      "source": [
        "# Example 1 - Lists can change (mutable), Tuples cannot (immutable)\n",
        "my_list = [\"apple\", \"banana\", \"cherry\"]\n",
        "my_tuple = (\"apple\", \"banana\", \"cherry\")\n",
        "\n",
        "# Changing the list works\n",
        "my_list[0] = \"orange\"\n",
        "print(my_list)\n",
        "\n",
        "# Changing the tuple will give an error:\n",
        "# my_tuple[0] = \"orange\"   # ❌ Not allowed\n",
        "\n",
        "# Example 2 - Lists can grow, Tuples cannot\n",
        "numbers_list = [1, 2, 3]\n",
        "numbers_tuple = (1, 2, 3)\n",
        "\n",
        "numbers_list.append(4)   # ✅ Works\n",
        "print(numbers_list)\n",
        "\n",
        "# numbers_tuple.append(4)  # ❌ Error: Tuples have no append\n",
        "\n",
        "# Example 3 - Iterating works the same way\n",
        "for item in my_list:\n",
        "    print(\"List item:\", item)\n",
        "\n",
        "for item in my_tuple:\n",
        "    print(\"Tuple item:\", item)\n",
        "\n",
        "# Example 4 - Tuples use () and Lists use []\n",
        "list_example = [10, 20, 30]\n",
        "tuple_example = (10, 20, 30)\n",
        "\n",
        "print(\"This is a list:\", list_example)\n",
        "print(\"This is a tuple:\", tuple_example)\n",
        "\n",
        "# Example 5 - Tuples are often used for fixed data\n",
        "days_in_week = (\"Monday\", \"Tuesday\", \"Wednesday\", \"Thursday\", \"Friday\", \"Saturday\", \"Sunday\")\n",
        "print(days_in_week)"
      ],
      "metadata": {
        "id": "HgMy1-LNMstJ"
      },
      "execution_count": null,
      "outputs": []
    },
    {
      "cell_type": "markdown",
      "source": [
        "#Conditionals - Basic Example"
      ],
      "metadata": {
        "id": "vj-lowmyPDER"
      }
    },
    {
      "cell_type": "markdown",
      "source": [
        "Weather Example"
      ],
      "metadata": {
        "id": "24wrLeJJPR7x"
      }
    },
    {
      "cell_type": "code",
      "source": [
        "weather = \"raining\"\n",
        "if weather == \"sunny\":\n",
        "    print(\"Wear sunglasses! 😎\")\n",
        "elif weather == \"raining\":\n",
        "    print(\"Don't forget your umbrella! ☔\")\n",
        "else:\n",
        "    print(\"Have a great day! 🙂\")\n",
        "# This would print: \"Don't forget your umbrella! ☔\""
      ],
      "metadata": {
        "id": "MZyYVMTXOwIg"
      },
      "execution_count": null,
      "outputs": []
    },
    {
      "cell_type": "markdown",
      "source": [
        "Examples of Operators"
      ],
      "metadata": {
        "id": "9q6x4tjWPz4y"
      }
    },
    {
      "cell_type": "code",
      "source": [
        "# Example 1: Equal to (==)\n",
        "fruit = \"apple\"\n",
        "if fruit == \"apple\":\n",
        "    print(\"It's an apple!\")\n",
        "else:\n",
        "    print(\"It's not an apple.\")\n",
        "\n",
        "# Example 2: Not equal to (!=)\n",
        "age = 15\n",
        "if age != 18:\n",
        "    print(\"You're not exactly 18 years old.\")\n",
        "\n",
        "# Example 3: Greater than (>)\n",
        "score = 85\n",
        "if score > 80:\n",
        "    print(\"You got a B or better!\")\n",
        "else:\n",
        "    print(\"You need to study more.\")\n",
        "\n",
        "# Example 4: Less than (<)\n",
        "temperature = 72\n",
        "if temperature < 32:\n",
        "    print(\"It's freezing outside!\")\n",
        "else:\n",
        "    print(\"It's not freezing.\")\n",
        "\n",
        "# Example 5: Greater than or equal to (>=)\n",
        "grade = 90\n",
        "if grade >= 90:\n",
        "    print(\"You got an A!\")\n",
        "elif grade >= 80:\n",
        "    print(\"You got a B.\")\n",
        "else:\n",
        "    print(\"You need to improve your score.\")\n",
        "\n",
        "# Example 6: Less than or equal to (<=)\n",
        "items_in_cart = 3\n",
        "if items_in_cart <= 5:\n",
        "    print(\"You can use the express checkout!\")\n",
        "else:\n",
        "    print(\"Please use a regular checkout.\")\n",
        "\n",
        "# Example 7: Combining multiple conditions\n",
        "number = 15\n",
        "if number > 10 and number < 20:\n",
        "    print(\"The number is between 10 and 20.\")\n",
        "\n",
        "# Example 8: More complex example\n",
        "username = \"student123\"\n",
        "password = \"pythonrocks\"\n",
        "\n",
        "if username == \"student123\" and password == \"pythonrocks\":\n",
        "    print(\"Login successful!\")\n",
        "else:\n",
        "    print(\"Invalid username or password.\")\n",
        "\n",
        "# Example 9: Checking if a value is in a range\n",
        "test_score = 87\n",
        "if 80 <= test_score < 90:\n",
        "    print(\"You got a B!\")\n",
        "\n",
        "# Example 10: Using with user input\n",
        "user_age = int(input(\"How old are you? \"))\n",
        "if user_age >= 13:\n",
        "    print(\"You can create a social media account.\")\n",
        "else:\n",
        "    print(\"You're too young for social media.\")"
      ],
      "metadata": {
        "id": "vqhBjqI7P2cr"
      },
      "execution_count": null,
      "outputs": []
    }
  ]
}