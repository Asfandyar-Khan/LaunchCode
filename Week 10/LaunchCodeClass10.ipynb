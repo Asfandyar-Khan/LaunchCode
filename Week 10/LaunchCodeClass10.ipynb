{
  "nbformat": 4,
  "nbformat_minor": 0,
  "metadata": {
    "colab": {
      "provenance": [],
      "collapsed_sections": [
        "CmxMBN0sSoSX"
      ]
    },
    "kernelspec": {
      "name": "python3",
      "display_name": "Python 3"
    },
    "language_info": {
      "name": "python"
    }
  },
  "cells": [
    {
      "cell_type": "markdown",
      "source": [
        "Examples"
      ],
      "metadata": {
        "id": "l7UnEIRVdxNs"
      }
    },
    {
      "cell_type": "code",
      "source": [],
      "metadata": {
        "id": "GsVUwzBKdymZ"
      },
      "execution_count": null,
      "outputs": []
    },
    {
      "cell_type": "markdown",
      "source": [
        "#Conditionals"
      ],
      "metadata": {
        "id": "CmxMBN0sSoSX"
      }
    },
    {
      "cell_type": "code",
      "execution_count": null,
      "metadata": {
        "id": "MdaPFT71SgDB"
      },
      "outputs": [],
      "source": [
        "# Example 1: Equal to (==)\n",
        "fruit = \"apple\"\n",
        "if fruit == \"apple\":\n",
        "    print(\"It's an apple!\")\n",
        "else:\n",
        "    print(\"It's not an apple.\")\n",
        "\n",
        "# Example 2: Not equal to (!=)\n",
        "age = 15\n",
        "if age != 18:\n",
        "    print(\"You're not exactly 18 years old.\")\n",
        "\n",
        "# Example 3: Greater than (>)\n",
        "score = 85\n",
        "if score > 80:\n",
        "    print(\"You got a B or better!\")\n",
        "else:\n",
        "    print(\"You need to study more.\")\n",
        "\n",
        "# Example 4: Less than (<)\n",
        "temperature = 72\n",
        "if temperature < 32:\n",
        "    print(\"It's freezing outside!\")\n",
        "else:\n",
        "    print(\"It's not freezing.\")\n",
        "\n",
        "# Example 5: Greater than or equal to (>=)\n",
        "grade = 90\n",
        "if grade >= 90:\n",
        "    print(\"You got an A!\")\n",
        "elif grade >= 80:\n",
        "    print(\"You got a B.\")\n",
        "else:\n",
        "    print(\"You need to improve your score.\")\n",
        "\n",
        "# Example 6: Less than or equal to (<=)\n",
        "items_in_cart = 3\n",
        "if items_in_cart <= 5:\n",
        "    print(\"You can use the express checkout!\")\n",
        "else:\n",
        "    print(\"Please use a regular checkout.\")\n",
        "\n",
        "# Example 7: Combining multiple conditions\n",
        "number = 15\n",
        "if number > 10 and number < 20:\n",
        "    print(\"The number is between 10 and 20.\")\n",
        "\n",
        "# Example 8: More complex example\n",
        "username = \"student123\"\n",
        "password = \"pythonrocks\"\n",
        "\n",
        "if username == \"student123\" and password == \"pythonrocks\":\n",
        "    print(\"Login successful!\")\n",
        "else:\n",
        "    print(\"Invalid username or password.\")\n",
        "\n",
        "# Example 9: Checking if a value is in a range\n",
        "test_score = 87\n",
        "if 80 <= test_score < 90:\n",
        "    print(\"You got a B!\")\n",
        "\n",
        "# Example 10: Using with user input\n",
        "user_age = int(input(\"How old are you? \"))\n",
        "if user_age >= 13:\n",
        "    print(\"You can create a social media account.\")\n",
        "else:\n",
        "    print(\"You're too young for social media.\")"
      ]
    },
    {
      "cell_type": "markdown",
      "source": [
        "#Knolwedge Check - If Statement"
      ],
      "metadata": {
        "id": "973vhGDOl6EA"
      }
    },
    {
      "cell_type": "code",
      "source": [
        "\"\"\"\n",
        "Question: Number Checker\n",
        "You have a variable that stores someone’s age:\n",
        "Age = 16\n",
        "\n",
        "Write an if/elif/else statement so the program prints:\n",
        "\n",
        "\"You are a child\" if age is less than 13\n",
        "\"You are a teenager\" if age is between 13 and 19 (inclusive)\n",
        "\"You are an adult\" otherwise\n",
        "\n",
        "Hint: Start with\n",
        "if age < 13:\n",
        "\"\"\"\n",
        "age = int(input(\"Enter your age: \"))\n",
        "\n",
        "if age < 13:\n",
        "  print(\"You are a child\")\n",
        "\n",
        "elif age =<19 and age >=13:\n",
        "  print(\"You are a teenager\")\n",
        "\n",
        "else:\n",
        "  print(\"You are an adult\")\n",
        "\n",
        "\n",
        "\n",
        "\n",
        "\n"
      ],
      "metadata": {
        "colab": {
          "base_uri": "https://localhost:8080/"
        },
        "id": "vw4qG7k5mT4J",
        "outputId": "b6b675e5-58b3-44af-fa0b-d03b1cb26392"
      },
      "execution_count": null,
      "outputs": [
        {
          "output_type": "stream",
          "name": "stdout",
          "text": [
            "Enter your age: 11\n",
            "You are a child\n"
          ]
        }
      ]
    },
    {
      "cell_type": "markdown",
      "source": [
        "#Boolean Expressions"
      ],
      "metadata": {
        "id": "5Lmbloj3UsuW"
      }
    },
    {
      "cell_type": "code",
      "source": [
        "5 > 3   # True\n",
        "2 == 4  # False\n",
        "\n",
        "10 == 10   # True\n",
        "\n",
        "\n",
        "7 != 3     # True\n",
        "\n",
        "\n",
        "5 > 2   # True\n",
        "4 < 1   # False\n"
      ],
      "metadata": {
        "id": "TFRs9s3vUuBk"
      },
      "execution_count": null,
      "outputs": []
    },
    {
      "cell_type": "markdown",
      "source": [
        "**Boolean Expressions - Within If/Else Statements**"
      ],
      "metadata": {
        "id": "9B2B-ivGV-OX"
      }
    },
    {
      "cell_type": "code",
      "source": [
        "#Example 1\n",
        "number = 10\n",
        "\n",
        "if number > 5:\n",
        "    print(\"The number is greater than 5\")\n",
        "else:\n",
        "    print(\"The number is not greater than 5\")\n",
        "\n",
        "\n",
        "#Example 2\n",
        "color = \"red\"\n",
        "\n",
        "if color == \"red\":\n",
        "    print(\"Stop!\")\n",
        "else:\n",
        "    print(\"Go!\")\n",
        "\n",
        "\n",
        "#Example 3\n",
        "\n",
        "day = \"Monday\"\n",
        "\n",
        "if day != \"Sunday\":\n",
        "    print(\"Time for school!\")\n",
        "else:\n",
        "    print(\"Enjoy the weekend!\")\n",
        "\n",
        "\n",
        "#Example 4\n",
        "\n",
        "score = 85\n",
        "\n",
        "if score >= 90:\n",
        "    print(\"Grade: A\")\n",
        "elif score >= 70:\n",
        "    print(\"Grade: B\")\n",
        "else:\n",
        "    print(\"Grade: C or lower\")"
      ],
      "metadata": {
        "id": "9PIqbGoAWBgm"
      },
      "execution_count": null,
      "outputs": []
    },
    {
      "cell_type": "markdown",
      "source": [
        "#Dictionary"
      ],
      "metadata": {
        "id": "20mQT2GSW7fi"
      }
    },
    {
      "cell_type": "code",
      "source": [
        "student = {\"name\": \"Alice\", \"age\": 12, \"grade\": \"7th\"}\n",
        "\n",
        "student\n",
        "\n",
        "\n",
        "student[\"height\"] = \"55 cm\"\n",
        "\n",
        "student\n",
        "\n"
      ],
      "metadata": {
        "colab": {
          "base_uri": "https://localhost:8080/"
        },
        "id": "X-jH-gaPs0EM",
        "outputId": "498a7c26-ae81-49c5-c4e6-f9369c7df68e"
      },
      "execution_count": null,
      "outputs": [
        {
          "output_type": "execute_result",
          "data": {
            "text/plain": [
              "{'name': 'Alice', 'age': 12, 'grade': '7th', 'height': '55 cm'}"
            ]
          },
          "metadata": {},
          "execution_count": 57
        }
      ]
    },
    {
      "cell_type": "code",
      "source": [
        "# Creating a dictionary\n",
        "student = {\"name\": \"Alice\", \"age\": 12, \"grade\": \"7th\"}\n",
        "\n",
        "# Accessing values using keys\n",
        "print(student[\"name\"])   # Output: Alice\n",
        "print(student[\"age\"])    # Output: 12\n",
        "\n",
        "# Adding a new key-value pair\n",
        "student[\"favorite_subject\"] = \"Math\"\n",
        "print(student)\n",
        "\n",
        "# Changing a value\n",
        "student[\"grade\"] = \"8th\"\n",
        "print(student)\n",
        "\n",
        "# Removing a key-value pair\n",
        "del student[\"age\"]\n",
        "print(student)\n",
        "\n",
        "# Looping through keys and values\n",
        "for key, value in student.items():\n",
        "    print(key, \":\", value)\n",
        "\n",
        "# Example: using a dictionary to track scores\n",
        "scores = {\"Alice\": 10, \"Bob\": 8, \"Charlie\": 12}\n",
        "print(scores)\n",
        "\n",
        "# Updating a score\n",
        "scores[\"Bob\"] += 5\n",
        "print(scores)\n",
        "\n",
        "# Adding a new player\n",
        "scores[\"Diana\"] = 7\n",
        "print(scores)"
      ],
      "metadata": {
        "id": "Wc-WZhEDW-5F"
      },
      "execution_count": null,
      "outputs": []
    }
  ]
}